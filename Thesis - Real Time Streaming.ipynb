{
 "cells": [
  {
   "cell_type": "code",
   "execution_count": 1,
   "metadata": {},
   "outputs": [],
   "source": [
    "import pandas as pd\n",
    "import numpy as np\n",
    "import matplotlib.pyplot as plt\n",
    "import yfinance as yf"
   ]
  },
  {
   "cell_type": "markdown",
   "metadata": {},
   "source": [
    "# Real Time Streaming of Data - Connecting to Interactive Brokers"
   ]
  },
  {
   "cell_type": "code",
   "execution_count": 2,
   "metadata": {},
   "outputs": [],
   "source": [
    "from ib_insync import *\n",
    "util.startLoop()\n",
    "ib = IB()"
   ]
  },
  {
   "cell_type": "code",
   "execution_count": 3,
   "metadata": {},
   "outputs": [
    {
     "data": {
      "text/plain": [
       "<IB connected to 127.0.0.1:7496 clientId=1>"
      ]
     },
     "execution_count": 3,
     "metadata": {},
     "output_type": "execute_result"
    }
   ],
   "source": [
    "ib.connect('127.0.0.1', 7496)"
   ]
  },
  {
   "cell_type": "code",
   "execution_count": 4,
   "metadata": {},
   "outputs": [
    {
     "data": {
      "text/plain": [
       "[]"
      ]
     },
     "execution_count": 4,
     "metadata": {},
     "output_type": "execute_result"
    }
   ],
   "source": [
    "ib.positions()"
   ]
  },
  {
   "cell_type": "code",
   "execution_count": 5,
   "metadata": {},
   "outputs": [],
   "source": [
    "ib.reqMarketDataType(3)"
   ]
  },
  {
   "cell_type": "code",
   "execution_count": 6,
   "metadata": {},
   "outputs": [
    {
     "data": {
      "text/plain": [
       "Forex('EURUSD', exchange='IDEALPRO')"
      ]
     },
     "execution_count": 6,
     "metadata": {},
     "output_type": "execute_result"
    }
   ],
   "source": [
    "# For Foreign exchange\n",
    "forex_contract = Forex(\"EURUSD\")\n",
    "forex_contract"
   ]
  },
  {
   "cell_type": "code",
   "execution_count": 7,
   "metadata": {},
   "outputs": [
    {
     "data": {
      "text/plain": [
       "Ticker(contract=Forex('EURUSD', exchange='IDEALPRO'))"
      ]
     },
     "execution_count": 7,
     "metadata": {},
     "output_type": "execute_result"
    }
   ],
   "source": [
    "stream_data = ib.reqMktData(\n",
    "    forex_contract\n",
    ")\n",
    "stream_data"
   ]
  },
  {
   "cell_type": "code",
   "execution_count": 8,
   "metadata": {},
   "outputs": [
    {
     "data": {
      "text/plain": [
       "Ticker(contract=Forex('EURUSD', exchange='IDEALPRO'), time=datetime.datetime(2023, 6, 2, 4, 54, 52, 911034, tzinfo=datetime.timezone.utc), minTick=1e-05, bid=1.07648, bidSize=1000000.0, ask=1.07649, askSize=1000000.0, high=1.07695, low=1.0758, close=1.0762, halted=0.0, ticks=[TickData(time=datetime.datetime(2023, 6, 2, 4, 54, 52, 911034, tzinfo=datetime.timezone.utc), tickType=1, price=1.07648, size=1000000.0), TickData(time=datetime.datetime(2023, 6, 2, 4, 54, 52, 911034, tzinfo=datetime.timezone.utc), tickType=2, price=1.07649, size=1000000.0), TickData(time=datetime.datetime(2023, 6, 2, 4, 54, 52, 911034, tzinfo=datetime.timezone.utc), tickType=6, price=1.07695, size=0.0), TickData(time=datetime.datetime(2023, 6, 2, 4, 54, 52, 911034, tzinfo=datetime.timezone.utc), tickType=7, price=1.0758, size=0.0), TickData(time=datetime.datetime(2023, 6, 2, 4, 54, 52, 911034, tzinfo=datetime.timezone.utc), tickType=9, price=1.0762, size=0.0), TickData(time=datetime.datetime(2023, 6, 2, 4, 54, 52, 911034, tzinfo=datetime.timezone.utc), tickType=49, price=0.0, size=0)])"
      ]
     },
     "execution_count": 8,
     "metadata": {},
     "output_type": "execute_result"
    }
   ],
   "source": [
    "stream_data"
   ]
  },
  {
   "cell_type": "code",
   "execution_count": 23,
   "metadata": {},
   "outputs": [
    {
     "data": {
      "text/plain": [
       "Stock(symbol='AAPL', exchange='IEX', currency='USD')"
      ]
     },
     "execution_count": 23,
     "metadata": {},
     "output_type": "execute_result"
    }
   ],
   "source": [
    "stock_contract = Stock(\"AAPL\", 'AMEX', 'USD')\n",
    "stock_contract"
   ]
  },
  {
   "cell_type": "code",
   "execution_count": 24,
   "metadata": {},
   "outputs": [
    {
     "data": {
      "text/plain": [
       "Ticker(contract=Stock(symbol='AAPL', exchange='IEX', currency='USD'))"
      ]
     },
     "execution_count": 24,
     "metadata": {},
     "output_type": "execute_result"
    },
    {
     "name": "stderr",
     "output_type": "stream",
     "text": [
      "Error 10089, reqId 11: Requested market data requires additional subscription for API. See link in 'Market Data Connections' dialog for more details.AAPL NASDAQ.NMS/TOP/ALL, contract: Stock(symbol='AAPL', exchange='IEX', currency='USD')\n"
     ]
    }
   ],
   "source": [
    "# need money on the account to use streamed prices\n",
    "stream_data2 = ib.reqMktData(\n",
    "    stock_contract\n",
    ")\n",
    "stream_data2"
   ]
  },
  {
   "cell_type": "code",
   "execution_count": 37,
   "metadata": {},
   "outputs": [
    {
     "data": {
      "text/plain": [
       "Ticker(contract=Stock(symbol='AAPL', exchange='SMART', currency='USD'), time=datetime.datetime(2023, 6, 1, 11, 44, 37, 975955, tzinfo=datetime.timezone.utc), minTick=0.01, bid=177.82, bidSize=100.0, ask=177.85, askSize=200.0, bboExchange='9c0001', snapshotPermissions=1)"
      ]
     },
     "execution_count": 37,
     "metadata": {},
     "output_type": "execute_result"
    }
   ],
   "source": [
    "stream_data2"
   ]
  },
  {
   "cell_type": "code",
   "execution_count": 26,
   "metadata": {},
   "outputs": [],
   "source": [
    "ib.disconnect()"
   ]
  },
  {
   "cell_type": "code",
   "execution_count": null,
   "metadata": {},
   "outputs": [],
   "source": []
  },
  {
   "cell_type": "code",
   "execution_count": null,
   "metadata": {},
   "outputs": [],
   "source": []
  }
 ],
 "metadata": {
  "kernelspec": {
   "display_name": "Python 3",
   "language": "python",
   "name": "python3"
  },
  "language_info": {
   "codemirror_mode": {
    "name": "ipython",
    "version": 3
   },
   "file_extension": ".py",
   "mimetype": "text/x-python",
   "name": "python",
   "nbconvert_exporter": "python",
   "pygments_lexer": "ipython3",
   "version": "3.7.4"
  }
 },
 "nbformat": 4,
 "nbformat_minor": 2
}
